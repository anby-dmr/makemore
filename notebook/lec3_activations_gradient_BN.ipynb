{
 "cells": [
  {
   "cell_type": "markdown",
   "id": "fafadec6",
   "metadata": {},
   "source": [
    "# TODO: Go deeeper\n",
    "## Key Points\n",
    "1. **Initialization matters**: wants to logits to be close to 0 at the very beginning to avoid large losses (avoid confidently wrong of softmax)\n",
    "2. **Saturation of the tanh function**: break the gradient flow. plot tanh intermediate values to see how it saturates.\n",
    "   1. Gradient always deceases as we go back through tanh.\n",
    "   2. Dead neurons: tanh (or sigmoid or relu) satrurates and cause the gradient to be 0 for all instances.\n",
    "   3. Initialization: motivation is to keep the distribution's variance of the input and output of each layer the same (and reasonable large). If no activation, can multiply by sqrt of (1 / num_of_inputs).\n",
    "   4. Kaiming's initialization: for relu, multiply by sqrt of (2 / number of inputs), where 2 is called \"gain\", used to compensate for the fact that relu is not symmetric around 0. \"gain\" has different values for different activation functions (see pytorch docs aboud weight initialization).\n",
    "   5. \"Gain\" is important: if no activation, then using gain=1 is enough to keep the variance the same, but with squashing activation functions like tanh, the variance will be smaller and smaller, so we need to multiply by a larger value to keep the variance the same.\n",
    "   6. Modern techniques like Adam, BN, residual connections, make initialization less important, but still useful.\n",
    "3. **BN motivation**: make the outputs before the activation function subject to a Gaussian (if too small, tanh has no effect; if too large, tanh saturates)\n",
    "   1. It's a direct idea: just normalize it to have mean 0 and variance 1.\n",
    "   2. Then scale and shift using learnable parameters.\n",
    "   3. BN's side effect: the activation value of an instance is dependent on the other instances in the batch (which is randmomly sampled), thus cause jittering in the training process. But this turns out to be a good thing, as it acts as a regularizer/data augmentation.\n",
    "   4. BN in inference: use the mean and variance of the entire training set or maintain a running mean and variance during training.\n",
    "   5. Bias is no more needed in the linear layer, as BN has its own bias (mathematically, the bias term will be substrated out by the mean of BN, so it never learns).\n",
    "   6. Momentum in BN: in running mean and variance, use momentum to update the mean and variance. (small batch size can cause large variance in estimation, so use a smaller momentum value to smooth it out)\n",
    "## Implementation detail\n",
    "1. Torchify the code of Linear, BatchNorm1d and Tanh, which should have `__call__()` and `parameters()` methods.\n",
    "2. Write: build MLP, enable the grad tracking, initialize the weights, training process.\n",
    "3. No BN, run for only 1 epoch, visualize (can try some other \"gain\" values to see the effect):\n",
    "   1. Tanh Value distribution of activation. (use Tanh because its value is between -1 and 1, so can see the distribution better)\n",
    "   2. Tanh Grad distribution of activation.\n",
    "   3. Linear layer weight distribution.\n",
    "   4. Update:data ratio over time (to see the speed of training of each layer) (use the ratio of the .std() to calculate)\n",
    "4. Add BN and check the robustness (to \"gain\" values)\n",
    "5. Other details:\n",
    "   1. The position of the BN.\n",
    "   2. Make the last layer less confident (avoid large loss at the beginning)."
   ]
  },
  {
   "cell_type": "code",
   "execution_count": null,
   "metadata": {},
   "outputs": [],
   "source": [
    "import torch\n",
    "import torch.nn.functional as F\n",
    "from matplotlib import pyplot as plt\n",
    "import random"
   ]
  },
  {
   "cell_type": "markdown",
   "id": "157f5d96",
   "metadata": {},
   "source": [
    "# Data preparation"
   ]
  },
  {
   "cell_type": "code",
   "execution_count": null,
   "id": "c5f3df97",
   "metadata": {},
   "outputs": [],
   "source": [
    "words = open(\"../names.txt\", \"r\").read().splitlines()\n",
    "chars = sorted(set('.'.join(words)))\n",
    "stoi = {char:i for i, char in enumerate(chars)}\n",
    "itos = {i:char for i, char in enumerate(chars)}"
   ]
  },
  {
   "cell_type": "code",
   "execution_count": null,
   "id": "67331ddb",
   "metadata": {},
   "outputs": [],
   "source": [
    "ratio1 = 0.8\n",
    "ratio2 = 0.9\n",
    "chunk = 3\n",
    "\n",
    "def create_data(ws, chunk=3):\n",
    "    X = []\n",
    "    Y = []\n",
    "    \n",
    "    for word in ws:\n",
    "        Xt = [0] * chunk # Cool\n",
    "        for ch in word + '.': # Dont forget to add ending token.\n",
    "            X.append(Xt)\n",
    "            Y.append(stoi[ch])   \n",
    "            Xt = Xt[1:] + [stoi[ch]]\n",
    "\n",
    "    return torch.tensor(X), torch.tensor(Y)\n",
    "\n",
    "random.shuffle(words) # No obvious affect (original words already shuffled)\n",
    "n1 = int(ratio1 * len(words))\n",
    "n2 = int(ratio2 * len(words))\n",
    "Xt, Yt = create_data(words[:n1], chunk=chunk)\n",
    "Xdev, Ydev = create_data(words[n1:n2], chunk=chunk)\n",
    "Xte, Yte = create_data(words[n2:], chunk=chunk)\n",
    "print(Xt.shape)\n",
    "print(Xdev.shape)"
   ]
  },
  {
   "cell_type": "markdown",
   "id": "ad5d1d0e",
   "metadata": {},
   "source": [
    "# Construct the component classes"
   ]
  },
  {
   "cell_type": "code",
   "execution_count": null,
   "id": "45e58180",
   "metadata": {},
   "outputs": [],
   "source": [
    "class Linear:\n",
    "    def __init__(self, n_in, n_out, bias=True):\n",
    "        self.n_in = n_in\n",
    "        self.n_out = n_out\n",
    "        self.W = torch.randn((n_in, n_out)) * (n_in)**(-0.5)\n",
    "        self.b = torch.zeros(n_out) if bias else None # zeros\n",
    "        self.out = None # For visualization\n",
    "\n",
    "    def __call__(self, x):\n",
    "        self.out = x @ self.W\n",
    "        if self.b is not None:\n",
    "            self.out += self.b\n",
    "        return self.out   \n",
    "\n",
    "    def parameters(self):\n",
    "        return [self.W, self.b] if self.b is not None else [self.W]\n",
    "    \n",
    "    def __repr__(self):\n",
    "        return f\"Linear({self.n_in}, {self.n_out})\"\n",
    "\n",
    "test_linear = Linear(10, 50)\n",
    "x_test = torch.randn((32, 10))\n",
    "print(test_linear(x_test).shape)\n",
    "print(test_linear.parameters()[0].shape)"
   ]
  },
  {
   "cell_type": "code",
   "execution_count": null,
   "id": "01366099",
   "metadata": {},
   "outputs": [],
   "source": [
    "class BN1d:\n",
    "    def __init__(self, num_feat, eps=1e-5, momentum=0.1):\n",
    "        self.n_feat = num_feat\n",
    "        self.eps = eps\n",
    "        self.momentum = momentum\n",
    "\n",
    "        self.gamma = torch.ones(num_feat) # ones\n",
    "        self.beta = torch.zeros(num_feat) # zeros\n",
    "\n",
    "        self.training = True\n",
    "        self.rmean = torch.ones(num_feat) \n",
    "        self.rvar = torch.zeros(num_feat)\n",
    "\n",
    "        self.out = None\n",
    "\n",
    "    def __call__(self, x):\n",
    "        if self.training:\n",
    "            meani = torch.mean(x, dim=0, keepdim=True) \n",
    "            vari = torch.var(x, dim=0, keepdim=True)\n",
    "        else:\n",
    "            meani = self.rmean\n",
    "            vari = self.rvar\n",
    "        \n",
    "        if not self.training:\n",
    "            self.rmean = (1- self.momentum) * self.rmean + self.momentum * meani \n",
    "            self.rvar = (1 - self.momentum) * self.rvar + self.momentum * vari\n",
    "        \n",
    "        self.out = self.gamma * (x - meani) / torch.sqrt(vari + self.eps) + self.beta\n",
    "        return self.out\n",
    "\n",
    "    def parameters(self):\n",
    "        return [self.gamma, self.beta]\n",
    "    \n",
    "    def __repr__(self):\n",
    "        return f\"BN1d({self.n_feat})\"\n",
    "\n",
    "BN_test = BN1d(4)\n",
    "x_test = torch.randn((5, 4))\n",
    "print(BN_test(x_test))\n",
    "print((x_test - x_test.mean(0, keepdim=True))/(torch.sqrt(x_test.var(0, keepdim=True) + 1e-5)))"
   ]
  },
  {
   "cell_type": "code",
   "execution_count": null,
   "id": "26d8431f",
   "metadata": {},
   "outputs": [],
   "source": [
    "class Tanh:\n",
    "    def __init__(self):\n",
    "        self.out = None\n",
    "\n",
    "    def __call__(self, x):\n",
    "        self.out = torch.tanh(x)       \n",
    "        return self.out\n",
    "\n",
    "    def parameters(self):\n",
    "        return None\n",
    "    \n",
    "    def __repr__(self):\n",
    "        return \"Tanh()\""
   ]
  },
  {
   "cell_type": "markdown",
   "id": "484aca2e",
   "metadata": {},
   "source": [
    "# Build the MLP"
   ]
  },
  {
   "cell_type": "code",
   "execution_count": null,
   "id": "56ce12c1",
   "metadata": {},
   "outputs": [],
   "source": [
    "X_ = F.one_hot(Xt, num_classes=27).float()\n",
    "print(X_.shape)\n",
    "W = torch.randn(27, 3)\n",
    "print((X_ @ W).shape)"
   ]
  },
  {
   "cell_type": "code",
   "execution_count": null,
   "id": "eb7221d7",
   "metadata": {},
   "outputs": [],
   "source": [
    "def get_embedding(embedding_size):\n",
    "    return torch.randn(27, embedding_size, requires_grad=True)\n",
    "\n",
    "test_embed = get_embedding(10)\n",
    "print(test_embed.shape)"
   ]
  },
  {
   "cell_type": "code",
   "execution_count": null,
   "id": "d87cc520",
   "metadata": {},
   "outputs": [],
   "source": [
    "def get_MLP(chunk, embedding_size, num_neurons, BN=True, eps=1e-5, momentum=0.1):\n",
    "    layers = []\n",
    "    n_in = chunk * embedding_size\n",
    "    for num in num_neurons:\n",
    "        layer = [Linear(n_in, num, False), BN1d(num, eps, momentum), Tanh()] if BN else [Linear(n_in, num, True), Tanh()]\n",
    "        layers.extend(layer)\n",
    "        n_in = num\n",
    "    \n",
    "    layer = [Linear(num_neurons[-1], 27, False), BN1d(27, eps, momentum)] if BN else [Linear(num_neurons[-1], 27, True)]\n",
    "    layers.extend(layer)\n",
    "    return layers\n",
    "\n",
    "layers = get_MLP(3, 10, [300])\n",
    "print(layers)"
   ]
  },
  {
   "cell_type": "code",
   "execution_count": null,
   "id": "89844759",
   "metadata": {},
   "outputs": [],
   "source": [
    "def weight_init(layers, gain=5/3):\n",
    "    if isinstance(layers[-1], BN1d): # Less confident\n",
    "        layers[-2].W *= 0.1\n",
    "    else:\n",
    "        layers[-1].W *= 0.1\n",
    "    for layer in layers:\n",
    "        if isinstance(layer, Linear):\n",
    "            layer.W *= gain"
   ]
  },
  {
   "cell_type": "markdown",
   "id": "d225fdb0",
   "metadata": {},
   "source": [
    "# Train & val scripts"
   ]
  },
  {
   "cell_type": "code",
   "execution_count": null,
   "id": "b3889ec1",
   "metadata": {},
   "outputs": [],
   "source": [
    "def go_through(xx, embed, layers):\n",
    "    # Through embedding\n",
    "    xx = F.one_hot(xx, num_classes=27).float()\n",
    "    xx = (xx @ embed).view(xx.shape[0], -1)\n",
    "    # xx = F.tanh(xx) # Do we really need this?\n",
    "\n",
    "    # Through MLP\n",
    "    for layer in layers:\n",
    "        xx = layer(xx)\n",
    "    return xx\n",
    "\n",
    "xx_test = Xt[:4].clone()\n",
    "xx_test = go_through(xx_test, test_embed, layers)\n",
    "print(xx_test.shape)"
   ]
  },
  {
   "cell_type": "code",
   "execution_count": null,
   "id": "c34a6ca2",
   "metadata": {},
   "outputs": [],
   "source": [
    "def get_params(layers):\n",
    "    param_list = []\n",
    "    for layer in layers:\n",
    "        params = layer.parameters()\n",
    "        if params is not None:\n",
    "            param_list.extend(params)\n",
    "    return param_list"
   ]
  },
  {
   "cell_type": "code",
   "execution_count": null,
   "id": "f663cf1a",
   "metadata": {},
   "outputs": [],
   "source": [
    "def train_MLP(X, Y, embed, layers, batch_size, epochs, lr):\n",
    "    param_list = [embed]\n",
    "    param_list.extend(get_params(layers))\n",
    "    for param in param_list:\n",
    "        param.requires_grad = True\n",
    "\n",
    "    loss_list = []\n",
    "    update_ratio = []\n",
    "    for epoch in range(epochs):\n",
    "        # Zero out the grad\n",
    "        for param in param_list:\n",
    "            param.grad = None\n",
    "\n",
    "        # Select batch\n",
    "        idx = torch.randint(0, len(X), (batch_size, ))\n",
    "        xx = X[idx]\n",
    "        yy = Y[idx]\n",
    "\n",
    "        # Forward pass\n",
    "        xx = go_through(xx, embed, layers)\n",
    "\n",
    "        # Retain grads for visualization\n",
    "        for layer in layers:\n",
    "            layer.out.retain_grad()\n",
    "\n",
    "        # Compute loss\n",
    "        loss = F.cross_entropy(xx, yy)\n",
    "\n",
    "        # Backward\n",
    "        loss.backward()\n",
    "        loss_list.append(loss.item())\n",
    "\n",
    "        # Record ratio to visualize\n",
    "        with torch.no_grad(): # no_grad()\n",
    "            update_ratio.append([((lr * param.grad).std() / param.data.std()).log10().item() for param in param_list]) # log10.item()\n",
    "\n",
    "        # Update params (Use tensor.data, because leaf tensor cannot do in-place operations)\n",
    "        for param in param_list:\n",
    "            param.data += -lr * param.grad\n",
    "        \n",
    "    return loss_list, update_ratio \n",
    "\n",
    "# chunk = 3\n",
    "# embedding_size = 10\n",
    "# embed = get_embedding(embedding_size)\n",
    "# layers = get_MLP(chunk, embedding_size, [100, 100, 100, 100, 100], BN=False)\n",
    "# param_list = [embed]\n",
    "# param_list.extend(get_params(layers))\n",
    "# weight_init(layers, gain=5/3)\n",
    "# loss_list, update_ratio = train_MLP(Xt, Yt, embed, layers, 64, 5000, 0.1)\n",
    "# plt.plot(loss_list)"
   ]
  },
  {
   "cell_type": "markdown",
   "id": "020d72f1",
   "metadata": {},
   "source": [
    "# Visualize intermediate values"
   ]
  },
  {
   "cell_type": "code",
   "execution_count": null,
   "id": "e602714b",
   "metadata": {},
   "outputs": [],
   "source": [
    "def visualize_activation_value(layers):\n",
    "    plt.figure(figsize=(20, 5))\n",
    "    legends = []\n",
    "    for i, layer in enumerate(layers):\n",
    "        if isinstance(layer, Tanh):\n",
    "            xx = layer.out\n",
    "            print(\"Layer%d %s -- mean: %.2f | std: %.2f | saturation: %.2f%%\" %\n",
    "                  (i, layer, xx.mean(), xx.std(), (xx.abs() > 0.97).float().mean()))\n",
    "            hy, hx = torch.histogram(xx, density=True)\n",
    "            plt.plot(hx[:-1].detach(), hy.detach())\n",
    "            legends.append(f\"Layer{i} {layer}\")\n",
    "    plt.legend(legends)\n",
    "    plt.title(\"activation value distribution\")\n",
    "    \n",
    "visualize_activation_value(layers)"
   ]
  },
  {
   "cell_type": "markdown",
   "id": "0d7f6cb1",
   "metadata": {},
   "source": [
    "## activation values\n",
    "- No BN, gain=5/3: Saturated at the first layer, but getting better latter. And the std tends not to be converge to 0 but roughly 0.5 - 0.6, which is good.\n",
    "![activation value distribution](../images/No_BN_5_3_Gain.png)\n",
    "- No BN, gain=1, less saturated, but std tends to be smaller and smaller, which is not good. Pure Linear preserve the variance, but tanh, as a squashing function, will break this unless we use a larger gain.\n",
    "![activation value distribution](../images/No_BN_1_Gain.png)\n",
    "- No BN, gain>=3, this case the saturation is quite severe.\n",
    "- Add BN, the result will be a lot better and robust to the gain value."
   ]
  },
  {
   "cell_type": "code",
   "execution_count": null,
   "id": "8ad617b2",
   "metadata": {},
   "outputs": [],
   "source": [
    "def visualize_activation_grad(layers):\n",
    "    plt.figure(figsize=(20, 5))\n",
    "    legends = []\n",
    "    for i, layer in enumerate(layers):\n",
    "        if isinstance(layer, Tanh):\n",
    "            xx = layer.out.grad\n",
    "            print(\"Layer %d %s -- mean: %+f | std: %e\" % (i, layer, xx.mean(), xx.std()))\n",
    "            hy, hx = torch.histogram(xx, density=True)\n",
    "            plt.plot(hx[:-1], hy)\n",
    "            legends.append(f\"Layer{i} {layer}\")\n",
    "    plt.legend(legends)\n",
    "    plt.title(\"activation grad distribution\")\n",
    "\n",
    "visualize_activation_grad(layers)"
   ]
  },
  {
   "cell_type": "markdown",
   "id": "a920a8d2",
   "metadata": {},
   "source": [
    "## activation gradients\n",
    "- No BN, gain=5/3: The gradient stays almost the same, neither shrinks nor explodes, which is good.\n",
    "![activation gradient distribution](../images/Grad_No_BN_5_3_Gain.png)\n",
    "- No BN, gain=0.5: The gradient's variance is getting larger.\n",
    "![activation gradient distribution](../images/Grad_No_BN_0.5_Gain.png)\n",
    "- No BN, larger gain, the gradient will tend to explode.\n",
    "- Again, add BN, the result will be a lot better and robust to the gain value."
   ]
  },
  {
   "cell_type": "code",
   "execution_count": null,
   "id": "7f3b6f20",
   "metadata": {},
   "outputs": [],
   "source": [
    "def visualize_weights(param_list):\n",
    "    plt.figure(figsize=(20, 5))\n",
    "    legends = []\n",
    "    for param in param_list:\n",
    "        if param.ndim > 1:\n",
    "            w = param\n",
    "            ww = w.grad\n",
    "            print(\"weight(%d, %d) -- mean: %+f | std: %e | grad:data scale ratio: %e\" % (w.shape[0], w.shape[1], ww.mean(), ww.std(), ww.std() / w.std()))\n",
    "            hy, hx = torch.histogram(ww, density=True)\n",
    "            plt.plot(hx[:-1].detach(), hy.detach())\n",
    "            legends.append(f\"weight({w.shape[0]}, {w.shape[1]})\")\n",
    "    plt.legend(legends)\n",
    "    plt.title(\"weights grad distribution\")\n",
    "\n",
    "visualize_weights(param_list)"
   ]
  },
  {
   "cell_type": "markdown",
   "id": "5918349c",
   "metadata": {},
   "source": [
    "## Linear layer weights\n",
    "- No BN, gain=5/3. The grad:data scale ratio of the last layer is several times larger than other layers, which indicates that the last layer may be updated faster. Use modern optimizer may ease this.\n",
    "\n",
    "weight(27, 10) -- mean: +0.002877 | std: 1.685361e-02 | grad:data scale ratio: 1.746943e-02\n",
    "\n",
    "weight(30, 100) -- mean: +0.000466 | std: 1.569925e-02 | grad:data scale ratio: 5.231872e-02\n",
    "\n",
    "weight(100, 100) -- mean: +0.000128 | std: 1.358390e-02 | grad:data scale ratio: 8.207078e-02\n",
    "\n",
    "weight(100, 100) -- mean: -0.000185 | std: 1.249495e-02 | grad:data scale ratio: 7.499947e-02\n",
    "\n",
    "weight(100, 100) -- mean: +0.000056 | std: 1.192545e-02 | grad:data scale ratio: 7.160348e-02\n",
    "\n",
    "weight(100, 100) -- mean: +0.000086 | std: 1.038254e-02 | grad:data scale ratio: 6.230477e-02\n",
    "\n",
    "weight(100, 27) -- mean: +0.000000 | std: 1.833592e-02 | grad:data scale ratio: 1.115449e-01\n",
    "![weights](../images/Weight_No_BN_5_3_Gain.png)\n",
    "- BN, gain=5/3, the grad:data scale ratio is a lot better.\n",
    "\n",
    "weight(27, 10) -- mean: +0.000000 | std: 1.801080e-02 | grad:data scale ratio: 1.807870e-02\n",
    "\n",
    "weight(30, 100) -- mean: -0.000062 | std: 1.456459e-02 | grad:data scale ratio: 4.795692e-02\n",
    "\n",
    "weight(100, 100) -- mean: +0.000048 | std: 1.363576e-02 | grad:data scale ratio: 8.307827e-02\n",
    "\n",
    "weight(100, 100) -- mean: -0.000063 | std: 1.125054e-02 | grad:data scale ratio: 6.777788e-02\n",
    "\n",
    "weight(100, 100) -- mean: +0.000010 | std: 9.727866e-03 | grad:data scale ratio: 5.810474e-02\n",
    "\n",
    "weight(100, 100) -- mean: -0.000090 | std: 8.363669e-03 | grad:data scale ratio: 5.019680e-02\n",
    "\n",
    "weight(100, 27) -- mean: +0.000012 | std: 1.448200e-02 | grad:data scale ratio: 8.823942e-02\n",
    "![weights](../images/Weight_BN_5_3_Gain.png)"
   ]
  },
  {
   "cell_type": "code",
   "execution_count": null,
   "id": "ddbb0648",
   "metadata": {},
   "outputs": [],
   "source": [
    "def visualize_ratio(ratio):\n",
    "    plt.figure(figsize=(20, 5))\n",
    "    legends = []\n",
    "    for i, param in enumerate(param_list):\n",
    "        if param.ndim > 1:\n",
    "            plt.plot([ratio[j][i] for j in range(len(ratio))])\n",
    "            legends.append(\"weight(%d, %d), index %d\" % (param.shape[0], param.shape[1], i))\n",
    "    plt.legend(legends)\n",
    "    plt.title(\"Ratio\")\n",
    "\n",
    "visualize_ratio(update_ratio)\n",
    "plt.plot([0, len(update_ratio)], [-3, -3], 'k') # these ratios should be ~1e-3, indicate on plot"
   ]
  },
  {
   "cell_type": "markdown",
   "id": "c4dfa7e6",
   "metadata": {},
   "source": [
    "## Linear layer update:data ratio\n",
    "- No BN, gain=5/3: The last layer is obviously an outlier, because it has multiplied by 0.1 to make the output less confident.\n",
    "![update:data ratio](../images/ratio_No_BN_5_3_Gain.png)\n",
    "- No BN, gain=5/3, but without the last layer's multiplication, the update:data ratio is more balanced.\n",
    "![update:data ratio](../images/ratio_No_BN_5_3_Gain_confident.png)"
   ]
  },
  {
   "cell_type": "markdown",
   "id": "1a8bcc76",
   "metadata": {},
   "source": [
    "# Train & Eval the MLP"
   ]
  },
  {
   "cell_type": "code",
   "execution_count": 142,
   "id": "3fc3b09e",
   "metadata": {},
   "outputs": [],
   "source": [
    "chunk = 3\n",
    "embedding_size = 10\n",
    "embed = get_embedding(embedding_size)\n",
    "layers = get_MLP(chunk, embedding_size, [100, 100, 100, 100, 100], BN=True)\n",
    "param_list = [embed]\n",
    "param_list.extend(get_params(layers))\n",
    "weight_init(layers, gain=5/3)\n",
    "\n",
    "batch_size = 64\n",
    "epochs = 40000\n",
    "lr = 0.1"
   ]
  },
  {
   "cell_type": "code",
   "execution_count": 143,
   "id": "cf328b5c",
   "metadata": {},
   "outputs": [
    {
     "data": {
      "text/plain": [
       "[<matplotlib.lines.Line2D at 0x135387db910>]"
      ]
     },
     "execution_count": 143,
     "metadata": {},
     "output_type": "execute_result"
    },
    {
     "data": {
      "image/png": "[encoded data removed]",
      "text/plain": [
       "<Figure size 640x480 with 1 Axes>"
      ]
     },
     "metadata": {},
     "output_type": "display_data"
    }
   ],
   "source": [
    "loss_list, update_ratio = train_MLP(Xt, Yt, embed, layers, batch_size, epochs, lr)\n",
    "plt.plot(loss_list)"
   ]
  },
  {
   "cell_type": "code",
   "execution_count": 159,
   "id": "053175d7",
   "metadata": {},
   "outputs": [],
   "source": [
    "for layer in layers:\n",
    "    if isinstance(layer, BN1d):\n",
    "        layer.training = False"
   ]
  },
  {
   "cell_type": "code",
   "execution_count": 160,
   "id": "98bb3690",
   "metadata": {},
   "outputs": [],
   "source": [
    "def dev_MLP(X, Y, embed, layers):\n",
    "    with torch.no_grad():\n",
    "        xx = go_through(X, embed, layers)\n",
    "        loss = F.cross_entropy(xx, Y)\n",
    "        print(loss.item())"
   ]
  },
  {
   "cell_type": "code",
   "execution_count": 161,
   "id": "0947f18e",
   "metadata": {},
   "outputs": [
    {
     "name": "stdout",
     "output_type": "stream",
     "text": [
      "2475.998779296875\n"
     ]
    }
   ],
   "source": [
    "dev_MLP(Xdev, Ydev, embed, layers)"
   ]
  },
  {
   "cell_type": "markdown",
   "id": "741910b1",
   "metadata": {},
   "source": [
    "# Infer"
   ]
  },
  {
   "cell_type": "code",
   "execution_count": null,
   "id": "c1673468",
   "metadata": {},
   "outputs": [
    {
     "name": "stdout",
     "output_type": "stream",
     "text": [
      "tensor([[nan, nan, nan, nan, nan, nan, nan, nan, nan, nan, nan, nan, nan, nan, nan, nan, nan, nan, nan, nan, nan, nan, nan, nan,\n",
      "         nan, nan, nan]], grad_fn=<AddBackward0>)\n"
     ]
    },
    {
     "name": "stderr",
     "output_type": "stream",
     "text": [
      "C:\\Users\\90534\\AppData\\Local\\Temp\\ipykernel_48260\\4283806034.py:19: UserWarning: var(): degrees of freedom is <= 0. Correction should be strictly less than the reduction factor (input numel divided by output numel). (Triggered internally at C:\\actions-runner\\_work\\pytorch\\pytorch\\pytorch\\aten\\src\\ATen\\native\\ReduceOps.cpp:1831.)\n",
      "  vari = torch.var(x, dim=0, keepdim=True)\n"
     ]
    },
    {
     "ename": "RuntimeError",
     "evalue": "probability tensor contains either `inf`, `nan` or element < 0",
     "output_type": "error",
     "traceback": [
      "\u001b[1;31m---------------------------------------------------------------------------\u001b[0m",
      "\u001b[1;31mRuntimeError\u001b[0m                              Traceback (most recent call last)",
      "Cell \u001b[1;32mIn[148], line 17\u001b[0m\n\u001b[0;32m     14\u001b[0m         result \u001b[38;5;241m=\u001b[39m [itos[char] \u001b[38;5;28;01mfor\u001b[39;00m char \u001b[38;5;129;01min\u001b[39;00m result]\n\u001b[0;32m     15\u001b[0m         \u001b[38;5;28mprint\u001b[39m(\u001b[38;5;124m'\u001b[39m\u001b[38;5;124m'\u001b[39m\u001b[38;5;241m.\u001b[39mjoin(result))\n\u001b[1;32m---> 17\u001b[0m \u001b[43minfer_names\u001b[49m\u001b[43m(\u001b[49m\u001b[38;5;241;43m2\u001b[39;49m\u001b[43m,\u001b[49m\u001b[43m \u001b[49m\u001b[43membed\u001b[49m\u001b[43m,\u001b[49m\u001b[43m \u001b[49m\u001b[43mlayers\u001b[49m\u001b[43m)\u001b[49m\n",
      "Cell \u001b[1;32mIn[148], line 9\u001b[0m, in \u001b[0;36minfer_names\u001b[1;34m(num, embed, layers)\u001b[0m\n\u001b[0;32m      7\u001b[0m \u001b[38;5;28mprint\u001b[39m(logits)\n\u001b[0;32m      8\u001b[0m probs \u001b[38;5;241m=\u001b[39m logits\u001b[38;5;241m.\u001b[39mexp() \u001b[38;5;241m/\u001b[39m logits\u001b[38;5;241m.\u001b[39mexp()\u001b[38;5;241m.\u001b[39msum(dim\u001b[38;5;241m=\u001b[39m\u001b[38;5;241m1\u001b[39m)\n\u001b[1;32m----> 9\u001b[0m next_token \u001b[38;5;241m=\u001b[39m \u001b[43mtorch\u001b[49m\u001b[38;5;241;43m.\u001b[39;49m\u001b[43mmultinomial\u001b[49m\u001b[43m(\u001b[49m\u001b[43mprobs\u001b[49m\u001b[43m[\u001b[49m\u001b[38;5;241;43m0\u001b[39;49m\u001b[43m]\u001b[49m\u001b[43m,\u001b[49m\u001b[43m \u001b[49m\u001b[43mnum_samples\u001b[49m\u001b[38;5;241;43m=\u001b[39;49m\u001b[38;5;241;43m1\u001b[39;49m\u001b[43m)\u001b[49m\n\u001b[0;32m     10\u001b[0m result\u001b[38;5;241m.\u001b[39mappend(next_token\u001b[38;5;241m.\u001b[39mitem())\n\u001b[0;32m     11\u001b[0m xx \u001b[38;5;241m=\u001b[39m xx[\u001b[38;5;241m1\u001b[39m:] \u001b[38;5;241m+\u001b[39m [next_token]\n",
      "\u001b[1;31mRuntimeError\u001b[0m: probability tensor contains either `inf`, `nan` or element < 0"
     ]
    }
   ],
   "source": [
    "def infer_names(num, embed, layers): # Cant infer in parallel\n",
    "    for i in range(num):\n",
    "        result = []\n",
    "        xx = [0] * chunk\n",
    "        while True:\n",
    "            logits = go_through(torch.tensor(xx).unsqueeze(0), embed, layers)\n",
    "            probs = logits.exp() / logits.exp().sum(dim=1)\n",
    "            next_token = torch.multinomial(probs[0], num_samples=1)\n",
    "            result.append(next_token.item())\n",
    "            xx = xx[1:] + [next_token]\n",
    "            if next_token == 0:\n",
    "                break\n",
    "        result = [itos[char] for char in result]\n",
    "        print(''.join(result))\n",
    "    \n",
    "infer_names(2, embed, layers)"
   ]
  },
  {
   "cell_type": "code",
   "execution_count": null,
   "id": "3226c915",
   "metadata": {},
   "outputs": [],
   "source": []
  }
 ],
 "metadata": {
  "kernelspec": {
   "display_name": "d2l",
   "language": "python",
   "name": "python3"
  },
  "language_info": {
   "codemirror_mode": {
    "name": "ipython",
    "version": 3
   },
   "file_extension": ".py",
   "mimetype": "text/x-python",
   "name": "python",
   "nbconvert_exporter": "python",
   "pygments_lexer": "ipython3",
   "version": "3.9.21"
  }
 },
 "nbformat": 4,
 "nbformat_minor": 5
}
