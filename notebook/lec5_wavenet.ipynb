{
 "cells": [
  {
   "cell_type": "markdown",
   "id": "fafadec6",
   "metadata": {},
   "source": [
    "# TODO: WaveNet\n",
    "1. Write Embedding, Flatten, Sequential components.\n",
    "2. Write a rolling window loss plot.\n",
    "3. Why go bigger and deeper? MLP training loss and validation loss are close to each other, which means we are not overfitting.\n",
    "4. WaveNet motivation: don't want to squash all information into a single embedding in just the first layer, but rather want do it layer by layer.\n",
    "5. Implementation: \n",
    "   1. Use consecutive version of Flatten() to concat bigrams layer by layer.\n",
    "   2. Fix BatchNorm bug because it is not working correctly with the multiple dimensions (>2) of the input."
   ]
  },
  {
   "cell_type": "code",
   "execution_count": 1,
   "metadata": {},
   "outputs": [],
   "source": [
    "import torch\n",
    "import torch.nn.functional as F\n",
    "from matplotlib import pyplot as plt\n",
    "import random"
   ]
  },
  {
   "cell_type": "markdown",
   "id": "157f5d96",
   "metadata": {},
   "source": [
    "# Data preparation"
   ]
  },
  {
   "cell_type": "code",
   "execution_count": 2,
   "id": "c5f3df97",
   "metadata": {},
   "outputs": [],
   "source": [
    "words = open(\"../names.txt\", \"r\").read().splitlines()\n",
    "chars = sorted(set('.'.join(words)))\n",
    "stoi = {char:i for i, char in enumerate(chars)}\n",
    "itos = {i:char for i, char in enumerate(chars)}"
   ]
  },
  {
   "cell_type": "code",
   "execution_count": 3,
   "id": "67331ddb",
   "metadata": {},
   "outputs": [
    {
     "name": "stdout",
     "output_type": "stream",
     "text": [
      "torch.Size([182439, 8])\n",
      "torch.Size([22758, 8])\n"
     ]
    }
   ],
   "source": [
    "ratio1 = 0.8\n",
    "ratio2 = 0.9\n",
    "chunk = 8\n",
    "\n",
    "def create_data(ws, chunk=3):\n",
    "    X = []\n",
    "    Y = []\n",
    "    \n",
    "    for word in ws:\n",
    "        Xt = [0] * chunk # Cool\n",
    "        for ch in word + '.': # Dont forget to add ending token.\n",
    "            X.append(Xt)\n",
    "            Y.append(stoi[ch])   \n",
    "            Xt = Xt[1:] + [stoi[ch]]\n",
    "\n",
    "    return torch.tensor(X), torch.tensor(Y)\n",
    "\n",
    "random.shuffle(words) # No obvious affect (original words already shuffled)\n",
    "n1 = int(ratio1 * len(words))\n",
    "n2 = int(ratio2 * len(words))\n",
    "Xt, Yt = create_data(words[:n1], chunk=chunk)\n",
    "Xdev, Ydev = create_data(words[n1:n2], chunk=chunk)\n",
    "Xte, Yte = create_data(words[n2:], chunk=chunk)\n",
    "print(Xt.shape)\n",
    "print(Xdev.shape)"
   ]
  },
  {
   "cell_type": "markdown",
   "id": "ad5d1d0e",
   "metadata": {},
   "source": [
    "# Construct the component classes"
   ]
  },
  {
   "cell_type": "code",
   "execution_count": 4,
   "id": "45e58180",
   "metadata": {},
   "outputs": [
    {
     "name": "stdout",
     "output_type": "stream",
     "text": [
      "torch.Size([32, 50])\n",
      "torch.Size([10, 50])\n"
     ]
    }
   ],
   "source": [
    "class Linear:\n",
    "    def __init__(self, n_in, n_out, bias=True):\n",
    "        self.n_in = n_in\n",
    "        self.n_out = n_out\n",
    "        self.W = torch.randn((n_in, n_out)) * (n_in)**(-0.5)\n",
    "        self.b = torch.zeros(n_out) if bias else None # zeros\n",
    "        self.out = None # For visualization\n",
    "\n",
    "    def __call__(self, x):\n",
    "        self.out = x @ self.W\n",
    "        if self.b is not None:\n",
    "            self.out += self.b\n",
    "        return self.out   \n",
    "\n",
    "    def parameters(self):\n",
    "        return [self.W, self.b] if self.b is not None else [self.W]\n",
    "    \n",
    "    def __repr__(self):\n",
    "        return f\"Linear({self.n_in}, {self.n_out})\"\n",
    "\n",
    "test_linear = Linear(10, 50)\n",
    "x_test = torch.randn((32, 10))\n",
    "print(test_linear(x_test).shape)\n",
    "print(test_linear.parameters()[0].shape)"
   ]
  },
  {
   "cell_type": "code",
   "execution_count": 11,
   "id": "01366099",
   "metadata": {},
   "outputs": [
    {
     "name": "stdout",
     "output_type": "stream",
     "text": [
      "tensor([[-0.5969, -0.8527,  0.2994, -0.3505],\n",
      "        [-1.2799, -0.7984,  0.8993,  0.5766],\n",
      "        [ 0.3171, -0.2241, -1.4822, -1.1667],\n",
      "        [ 1.3667,  1.5806,  0.7992, -0.4627],\n",
      "        [ 0.1930,  0.2946, -0.5156,  1.4033]])\n",
      "tensor([[-0.5969, -0.8527,  0.2994, -0.3505],\n",
      "        [-1.2799, -0.7984,  0.8993,  0.5766],\n",
      "        [ 0.3171, -0.2241, -1.4822, -1.1667],\n",
      "        [ 1.3667,  1.5806,  0.7992, -0.4627],\n",
      "        [ 0.1930,  0.2946, -0.5156,  1.4033]])\n"
     ]
    }
   ],
   "source": [
    "class BN1d:\n",
    "    def __init__(self, num_feat, eps=1e-5, momentum=0.1):\n",
    "        self.n_feat = num_feat\n",
    "        self.eps = eps\n",
    "        self.momentum = momentum\n",
    "\n",
    "        self.gamma = torch.ones(num_feat) # ones\n",
    "        self.beta = torch.zeros(num_feat) # zeros\n",
    "\n",
    "        self.training = True\n",
    "        self.rmean = torch.zeros(num_feat) # !! torch.zeros not torch.ones. It is like starting from a normal distribution.\n",
    "        self.rvar = torch.ones(num_feat)\n",
    "\n",
    "        self.out = None\n",
    "\n",
    "    def __call__(self, x):\n",
    "        if self.training:\n",
    "            if x.ndim == 2:\n",
    "                dim = 0\n",
    "            elif x.ndim == 3:\n",
    "                dim = (0, 1)\n",
    "            meani = torch.mean(x, dim=dim, keepdim=True) \n",
    "            vari = torch.var(x, dim=dim, keepdim=True)\n",
    "        else:\n",
    "            meani = self.rmean\n",
    "            vari = self.rvar\n",
    "        \n",
    "        if self.training: # !! During training\n",
    "            with torch.no_grad(): # !! Remember to torch.no_grad()\n",
    "                self.rmean = (1- self.momentum) * self.rmean + self.momentum * meani \n",
    "                self.rvar = (1 - self.momentum) * self.rvar + self.momentum * vari\n",
    "        \n",
    "        self.out = self.gamma * (x - meani) / torch.sqrt(vari + self.eps) + self.beta\n",
    "        return self.out\n",
    "\n",
    "    def parameters(self):\n",
    "        return [self.gamma, self.beta]\n",
    "    \n",
    "    def __repr__(self):\n",
    "        return f\"BN1d({self.n_feat})\"\n",
    "\n",
    "BN_test = BN1d(4)\n",
    "x_test = torch.randn((5, 4))\n",
    "print(BN_test(x_test))\n",
    "print((x_test - x_test.mean(0, keepdim=True))/(torch.sqrt(x_test.var(0, keepdim=True) + 1e-5)))"
   ]
  },
  {
   "cell_type": "code",
   "execution_count": 12,
   "id": "26d8431f",
   "metadata": {},
   "outputs": [],
   "source": [
    "class Tanh:\n",
    "    def __init__(self):\n",
    "        self.out = None\n",
    "\n",
    "    def __call__(self, x):\n",
    "        self.out = torch.tanh(x)       \n",
    "        return self.out\n",
    "\n",
    "    def parameters(self):\n",
    "        return []\n",
    "    \n",
    "    def __repr__(self):\n",
    "        return \"Tanh()\""
   ]
  },
  {
   "cell_type": "code",
   "execution_count": 13,
   "id": "5f0d8a75",
   "metadata": {},
   "outputs": [
    {
     "name": "stdout",
     "output_type": "stream",
     "text": [
      "torch.Size([32, 8, 10])\n"
     ]
    }
   ],
   "source": [
    "class Embedding:\n",
    "    def __init__(self, num_embedding, embedding_dim):\n",
    "        self.C = torch.randn((num_embedding, embedding_dim))\n",
    "        self.num_emb = num_embedding\n",
    "        self.emb_dim = embedding_dim\n",
    "\n",
    "    def __call__(self, ix):\n",
    "        self.out = self.C[ix]\n",
    "        return self.out\n",
    "\n",
    "    def parameters(self):\n",
    "        return [self.C]\n",
    "\n",
    "    def __repr__(self):\n",
    "        return f\"Embedding({self.num_emb, self.emb_dim})\"\n",
    "\n",
    "test_ix = Xt[:32].clone()\n",
    "test_emb = Embedding(27, 10)\n",
    "print(test_emb(test_ix).shape)"
   ]
  },
  {
   "cell_type": "code",
   "execution_count": 14,
   "id": "f77c668d",
   "metadata": {},
   "outputs": [],
   "source": [
    "class Flatten:\n",
    "    def __init__(self, n):\n",
    "        self.n = n\n",
    "    \n",
    "    def __call__(self, x):\n",
    "        B, T, C = x.shape\n",
    "        x = x.view(B, T//self.n, C*self.n)\n",
    "        if x.shape[1] == 1:\n",
    "            x = x.squeeze(1)\n",
    "        self.out = x\n",
    "        return self.out\n",
    "    \n",
    "    def parameters(self):\n",
    "        return []\n",
    "    \n",
    "    def __repr__(self):\n",
    "        return \"Flatten()\""
   ]
  },
  {
   "cell_type": "code",
   "execution_count": 15,
   "id": "adf4e487",
   "metadata": {},
   "outputs": [
    {
     "name": "stdout",
     "output_type": "stream",
     "text": [
      "Sequential(\n",
      "\tEmbedding((27, 10))\n",
      "\tFlatten()\n",
      "\tLinear(80, 100)\n",
      "\tLinear(100, 27)\n",
      ")\n",
      "torch.Size([32, 27])\n"
     ]
    }
   ],
   "source": [
    "class Sequential:\n",
    "    def __init__(self, layers):\n",
    "        self.layers = layers\n",
    "    \n",
    "    def __call__(self, x):\n",
    "        for layer in self.layers:\n",
    "            x = layer(x)\n",
    "        return x\n",
    "    \n",
    "    def parameters(self):\n",
    "        return [p for layer in self.layers for p in layer.parameters()]\n",
    "\n",
    "    def __repr__(self):\n",
    "        desc = \"Sequential(\\n\"\n",
    "        for layer in self.layers:\n",
    "            desc += \"\\t\" + layer.__repr__() + \"\\n\"\n",
    "        desc += \")\"\n",
    "        return desc\n",
    "\n",
    "layers = [\n",
    "    Embedding(27, 10),\n",
    "    Flatten(8),\n",
    "    Linear(chunk * 10, 100),\n",
    "    Linear(100, 27)\n",
    "]\n",
    "model = Sequential(layers)\n",
    "print(model)\n",
    "test_ix = Xt[:32].clone()\n",
    "print(model(test_ix).shape)"
   ]
  },
  {
   "cell_type": "markdown",
   "id": "a93b3f8f",
   "metadata": {},
   "source": [
    "# WaveNet"
   ]
  },
  {
   "cell_type": "markdown",
   "id": "484aca2e",
   "metadata": {},
   "source": [
    "## Init"
   ]
  },
  {
   "cell_type": "code",
   "execution_count": 16,
   "id": "89844759",
   "metadata": {},
   "outputs": [],
   "source": [
    "def weight_init(layers, gain=5/3):\n",
    "    if isinstance(layers[-1], BN1d): # Less confident\n",
    "        layers[-2].W *= 0.1\n",
    "    else:\n",
    "        layers[-1].W *= 0.1\n",
    "    for layer in layers:\n",
    "        if isinstance(layer, Linear):\n",
    "            layer.W *= gain"
   ]
  },
  {
   "cell_type": "markdown",
   "id": "d225fdb0",
   "metadata": {},
   "source": [
    "## Train & val scripts"
   ]
  },
  {
   "cell_type": "code",
   "execution_count": 17,
   "id": "c34a6ca2",
   "metadata": {},
   "outputs": [],
   "source": [
    "def get_params(layers):\n",
    "    param_list = []\n",
    "    for layer in layers:\n",
    "        params = layer.parameters()\n",
    "        if params is not None:\n",
    "            param_list.extend(params)\n",
    "    return param_list"
   ]
  },
  {
   "cell_type": "code",
   "execution_count": 18,
   "id": "f663cf1a",
   "metadata": {},
   "outputs": [],
   "source": [
    "def train_MLP(X, Y, model, batch_size, epochs, lr):\n",
    "    param_list = model.parameters()\n",
    "    for param in param_list:\n",
    "        param.requires_grad = True\n",
    "\n",
    "    loss_list = []\n",
    "    for epoch in range(epochs):\n",
    "        # Zero out the grad\n",
    "        for param in param_list:\n",
    "            param.grad = None\n",
    "\n",
    "        # Select batch\n",
    "        idx = torch.randint(0, len(X), (batch_size, ))\n",
    "        xx = X[idx]\n",
    "        yy = Y[idx]\n",
    "\n",
    "        # Forward pass\n",
    "        logits = model(xx)\n",
    "\n",
    "        # Compute loss\n",
    "        loss = F.cross_entropy(logits, yy)\n",
    "\n",
    "        # Backward\n",
    "        loss.backward()\n",
    "        loss_list.append(loss.item())\n",
    "\n",
    "        # Update params (Use tensor.data, because leaf tensor cannot do in-place operations)\n",
    "        for param in param_list:\n",
    "            param.data += -lr * param.grad\n",
    "        \n",
    "    return loss_list\n",
    "\n",
    "# chunk = 3\n",
    "# embedding_size = 10\n",
    "# embed = get_embedding(embedding_size)\n",
    "# layers = get_MLP(chunk, embedding_size, [100, 100, 100, 100, 100], BN=False)\n",
    "# param_list = [embed]\n",
    "# param_list.extend(get_params(layers))\n",
    "# weight_init(layers, gain=5/3)\n",
    "# loss_list, update_ratio = train_MLP(Xt, Yt, embed, layers, 64, 5000, 0.1)\n",
    "# plt.plot(loss_list)"
   ]
  },
  {
   "cell_type": "markdown",
   "id": "1a8bcc76",
   "metadata": {},
   "source": [
    "## Train & Eval the MLP"
   ]
  },
  {
   "cell_type": "code",
   "execution_count": null,
   "id": "3fc3b09e",
   "metadata": {},
   "outputs": [],
   "source": [
    "embedding_size = 24\n",
    "# n_hidden = 68 # To keep the num of parameters the same\n",
    "n_hidden = 128\n",
    "model = Sequential([\n",
    "    Embedding(27, embedding_size),\n",
    "    Flatten(2), Linear(embedding_size * 2, n_hidden), BN1d(n_hidden), Tanh(),\n",
    "    Flatten(2), Linear(n_hidden * 2, n_hidden), BN1d(n_hidden), Tanh(),\n",
    "    Flatten(2), Linear(n_hidden * 2, n_hidden), BN1d(n_hidden), Tanh(),\n",
    "    Linear(n_hidden, 27),\n",
    "    BN1d(27)\n",
    "])\n",
    "weight_init(layers, gain=5/3)\n",
    "\n",
    "batch_size = 32\n",
    "epochs = 100000\n",
    "lr = 0.1"
   ]
  },
  {
   "cell_type": "code",
   "execution_count": 20,
   "id": "cf328b5c",
   "metadata": {},
   "outputs": [
    {
     "data": {
      "text/plain": [
       "[<matplotlib.lines.Line2D at 0x1b5e4c14f10>]"
      ]
     },
     "execution_count": 20,
     "metadata": {},
     "output_type": "execute_result"
    },
    {
     "data": {
      "image/png": "[encoded data removed]",
      "text/plain": [
       "<Figure size 640x480 with 1 Axes>"
      ]
     },
     "metadata": {},
     "output_type": "display_data"
    }
   ],
   "source": [
    "loss_list = train_MLP(Xt, Yt, model, batch_size, epochs, lr)\n",
    "plt.plot(loss_list)"
   ]
  },
  {
   "cell_type": "code",
   "execution_count": 21,
   "id": "2f2ff223",
   "metadata": {},
   "outputs": [
    {
     "data": {
      "text/plain": [
       "[<matplotlib.lines.Line2D at 0x1b5e4e9afd0>]"
      ]
     },
     "execution_count": 21,
     "metadata": {},
     "output_type": "execute_result"
    },
    {
     "data": {
      "image/png": "[encoded data removed]",
      "text/plain": [
       "<Figure size 640x480 with 1 Axes>"
      ]
     },
     "metadata": {},
     "output_type": "display_data"
    }
   ],
   "source": [
    "plt.plot(torch.tensor(loss_list).view(-1, 1000).mean(1))"
   ]
  },
  {
   "cell_type": "code",
   "execution_count": 22,
   "id": "053175d7",
   "metadata": {},
   "outputs": [],
   "source": [
    "for layer in model.layers:\n",
    "    if isinstance(layer, BN1d):\n",
    "        layer.training = False"
   ]
  },
  {
   "cell_type": "code",
   "execution_count": 23,
   "id": "98bb3690",
   "metadata": {},
   "outputs": [],
   "source": [
    "def dev_MLP(X, Y, model):\n",
    "    with torch.no_grad():\n",
    "        logits = model(X)\n",
    "        loss = F.cross_entropy(logits, Y)\n",
    "        print(loss.item())"
   ]
  },
  {
   "cell_type": "code",
   "execution_count": 24,
   "id": "0947f18e",
   "metadata": {},
   "outputs": [
    {
     "name": "stdout",
     "output_type": "stream",
     "text": [
      "2.0842881202697754\n"
     ]
    }
   ],
   "source": [
    "dev_MLP(Xdev, Ydev, model)"
   ]
  },
  {
   "cell_type": "markdown",
   "id": "741910b1",
   "metadata": {},
   "source": [
    "## Infer"
   ]
  },
  {
   "cell_type": "code",
   "execution_count": 72,
   "id": "c1673468",
   "metadata": {},
   "outputs": [
    {
     "name": "stdout",
     "output_type": "stream",
     "text": [
      "aajeent.\n",
      "humaijaha.\n",
      "rayan.\n",
      "graysen.\n",
      "myckey.\n",
      "luilah.\n",
      "weyla.\n",
      "avyneah.\n",
      "tura.\n",
      "lonneel.\n"
     ]
    }
   ],
   "source": [
    "def infer_names(num, model): # Cant infer in parallel\n",
    "    for i in range(num):\n",
    "        result = []\n",
    "        xx = [0] * chunk\n",
    "        while True:\n",
    "            logits = model(torch.tensor(xx).unsqueeze(0))\n",
    "            probs = logits.exp() / logits.exp().sum(dim=1)\n",
    "            next_token = torch.multinomial(probs[0], num_samples=1)\n",
    "            result.append(next_token.item())\n",
    "            xx = xx[1:] + [next_token]\n",
    "            if next_token == 0:\n",
    "                break\n",
    "        result = [itos[char] for char in result]\n",
    "        print(''.join(result))\n",
    "    \n",
    "infer_names(10, model)"
   ]
  },
  {
   "cell_type": "code",
   "execution_count": null,
   "id": "3226c915",
   "metadata": {},
   "outputs": [],
   "source": []
  }
 ],
 "metadata": {
  "kernelspec": {
   "display_name": "d2l",
   "language": "python",
   "name": "python3"
  },
  "language_info": {
   "codemirror_mode": {
    "name": "ipython",
    "version": 3
   },
   "file_extension": ".py",
   "mimetype": "text/x-python",
   "name": "python",
   "nbconvert_exporter": "python",
   "pygments_lexer": "ipython3",
   "version": "3.9.21"
  }
 },
 "nbformat": 4,
 "nbformat_minor": 5
}
