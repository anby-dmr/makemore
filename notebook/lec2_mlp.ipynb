{
 "cells": [
  {
   "cell_type": "markdown",
   "id": "fafadec6",
   "metadata": {},
   "source": [
    "# TODO: loss < 2.17\n",
    "1. Padding and rollng window to construct the training data.\n",
    "2. Construct the MLP: \n",
    "   1. Embedding layer (First layer, no non-linearity): Use embedding tensor to embed characters into a 2-dim vector (27 chars in total).\n",
    "   2. Hidden layers: Use two tensor W and b with tanh.\n",
    "   3. Output layer: Use two tensor W and b plus a softmax.\n",
    "3. Use batch gradient descent to train the MLP.\n",
    "4. Use a list of learning rate during the traning to determine the best learning rate.\n",
    "5. Try learning rate decay after convergence.\n",
    "6. 3 data splits: \n",
    "   1. Training set: 80% of the data. (Train the parameters)\n",
    "   2. Validation set: 10% of the data. (Train the hyper-parameters)\n",
    "   3. Test set: 10% of the data. \n",
    "7. Use the validation set to prevent overfitting and underfitting.\n",
    "8. Enlarge the hidden layer size, scale up the embedding size.\n",
    "9. Try to sample from the models."
   ]
  },
  {
   "cell_type": "code",
   "execution_count": null,
   "metadata": {},
   "outputs": [],
   "source": [
    "import torch\n",
    "import torch.nn.functional as F\n",
    "from matplotlib import pyplot as plt"
   ]
  },
  {
   "cell_type": "markdown",
   "id": "157f5d96",
   "metadata": {},
   "source": [
    "# Data preparation"
   ]
  },
  {
   "cell_type": "code",
   "execution_count": null,
   "id": "c5f3df97",
   "metadata": {},
   "outputs": [],
   "source": [
    "words = open(\"../names.txt\", \"r\").read().splitlines()\n",
    "chars = sorted(set('.'.join(words)))\n",
    "stoi = {char:i for i, char in enumerate(chars)}\n",
    "itos = {i:char for i, char in enumerate(chars)}"
   ]
  },
  {
   "cell_type": "code",
   "execution_count": null,
   "id": "67331ddb",
   "metadata": {},
   "outputs": [],
   "source": [
    "ratio1 = 0.8\n",
    "ratio2 = 0.9\n",
    "chunk = 3\n",
    "\n",
    "def create_data(ws, chunk=3):\n",
    "    X = []\n",
    "    Y = []\n",
    "    \n",
    "    for word in ws:\n",
    "        Xt = [0] * chunk # Cool\n",
    "        for ch in word:\n",
    "            X.append(Xt)\n",
    "            Y.append(stoi[ch])   \n",
    "            Xt = Xt[1:] + [stoi[ch]]\n",
    "\n",
    "    return torch.tensor(X), torch.tensor(Y)\n",
    "\n",
    "n1 = int(ratio1 * len(words))\n",
    "n2 = int(ratio2 * len(words))\n",
    "Xt, Yt = create_data(words[:n1], chunk=chunk)\n",
    "Xdev, Ydev = create_data(words[n1:n2], chunk=chunk)\n",
    "Xte, Yte = create_data(words[n2:], chunk=chunk)\n",
    "print(Xt.shape)\n",
    "print(len(Xdev))"
   ]
  },
  {
   "cell_type": "markdown",
   "id": "ad5d1d0e",
   "metadata": {},
   "source": [
    "# Construct the MLP"
   ]
  },
  {
   "cell_type": "code",
   "execution_count": null,
   "id": "56ce12c1",
   "metadata": {},
   "outputs": [],
   "source": [
    "X_ = F.one_hot(Xt, num_classes=27).float()\n",
    "print(X_.shape)\n",
    "W = torch.randn(27, 3)\n",
    "print((X_ @ W).shape)"
   ]
  },
  {
   "cell_type": "code",
   "execution_count": null,
   "id": "eb7221d7",
   "metadata": {},
   "outputs": [],
   "source": [
    "embedding_size = 3\n",
    "\n",
    "def get_embedding(embedding_size):\n",
    "    return torch.randn(27, embedding_size, requires_grad=True)"
   ]
  },
  {
   "cell_type": "code",
   "execution_count": null,
   "id": "da3cb125",
   "metadata": {},
   "outputs": [],
   "source": [
    "def get_MLP(chunk, embedding_size, num_neurons):\n",
    "    Ws = []\n",
    "    bs = []\n",
    "\n",
    "    # Input layer\n",
    "    W = torch.randn(chunk * embedding_size, num_neurons[0], requires_grad=True)\n",
    "    b = torch.randn(num_neurons[0])\n",
    "    Ws.append(W)\n",
    "    bs.append(b)\n",
    "\n",
    "    # Hidden layer\n",
    "    for n1, n2 in zip(num_neurons, num_neurons[1:]):\n",
    "        W = torch.randn(n1, n2, requires_grad=True)\n",
    "        b = torch.randn(n2, requires_grad=True)\n",
    "        Ws.append(W)\n",
    "        bs.append(b)\n",
    "\n",
    "    # Output layer\n",
    "    W = torch.randn(num_neurons[-1], 27, requires_grad=True)\n",
    "    b = torch.randn(27)\n",
    "    Ws.append(W)\n",
    "    bs.append(b)\n",
    "\n",
    "    return Ws, bs\n",
    "\n",
    "W, b = get_MLP(chunk, embedding_size, [100])\n",
    "print(W[0].shape)"
   ]
  },
  {
   "cell_type": "markdown",
   "id": "d225fdb0",
   "metadata": {},
   "source": [
    "# Train & val scripts"
   ]
  },
  {
   "cell_type": "code",
   "execution_count": 66,
   "id": "f663cf1a",
   "metadata": {},
   "outputs": [
    {
     "data": {
      "text/plain": [
       "[<matplotlib.lines.Line2D at 0x1b7273ff3a0>]"
      ]
     },
     "execution_count": 66,
     "metadata": {},
     "output_type": "execute_result"
    },
    {
     "data": {
      "image/png": "[encoded data removed]",
      "text/plain": [
       "<Figure size 640x480 with 1 Axes>"
      ]
     },
     "metadata": {},
     "output_type": "display_data"
    }
   ],
   "source": [
    "def train_MLP(X, Y, embed, Ws, bs, batch_size, epochs, lr):\n",
    "    loss_list = []\n",
    "    for epoch in range(epochs):\n",
    "        # Zero out the grad (easy to forget)\n",
    "        embed.grad = None\n",
    "        for W, b in zip(Ws, bs):\n",
    "            W.grad = None\n",
    "            b.grad = None\n",
    "        \n",
    "        # Select batch\n",
    "        indices = torch.randint(low=0, high=X.shape[0], size=(batch_size,))\n",
    "        xx = X[indices]\n",
    "        yy = Y[indices]\n",
    "\n",
    "        # Through embedding\n",
    "        xx = F.one_hot(xx, num_classes=27).float()\n",
    "        xx = (xx @ embed).view(xx.shape[0], -1)\n",
    "        \n",
    "        # Through MLP\n",
    "        num_layers = len(Ws)\n",
    "        for W, b in zip(Ws, bs):\n",
    "            xx = xx @ W + b\n",
    "            xx = F.tanh(xx)\n",
    "        \n",
    "        # Compute loss\n",
    "        loss = F.cross_entropy(xx, yy)\n",
    "        loss.backward()\n",
    "        loss_list.append(loss.item())\n",
    "\n",
    "        # Update params (Use tensor.data, because leaf tensor cannot do in-place operations)\n",
    "        embed.data += -lr * embed.grad\n",
    "        for W, b in zip(Ws, bs):\n",
    "            W.data += -lr * W.grad\n",
    "            if b.requires_grad == True:\n",
    "                b.data += -lr * b.grad\n",
    "            \n",
    "    return loss_list\n",
    "\n",
    "embed = get_embedding(embedding_size)\n",
    "embed.requires_grad = True\n",
    "Ws, bs = get_MLP(chunk, embedding_size, [100])\n",
    "loss_list = train_MLP(Xt, Yt, embed, Ws, bs, 32, 10000, 0.1)\n",
    "plt.plot(loss_list)"
   ]
  },
  {
   "cell_type": "code",
   "execution_count": 75,
   "id": "8a356959",
   "metadata": {},
   "outputs": [],
   "source": [
    "def dev_MLP(X, Y, embed, Ws, bs):\n",
    "    xx = F.one_hot(X, num_classes=27).float()\n",
    "    xx = (xx @ embed).view(xx.shape[0], -1)\n",
    "    for W, b in zip(Ws, bs):\n",
    "        xx = xx @ W + b\n",
    "        xx = F.tanh(xx)\n",
    "    loss = F.cross_entropy(xx, Y)\n",
    "    print(f\"loss: {loss}\")"
   ]
  },
  {
   "cell_type": "markdown",
   "id": "1a8bcc76",
   "metadata": {},
   "source": [
    "# Train the MLP"
   ]
  },
  {
   "cell_type": "code",
   "execution_count": null,
   "id": "e2df146a",
   "metadata": {},
   "outputs": [],
   "source": [
    "chunk = 3\n",
    "embedding_size = 2\n",
    "num_neurons = [300]\n",
    "\n",
    "embed = get_embedding(embedding_size)\n",
    "Ws, bs = get_MLP(chunk, embedding_size, num_neurons)\n",
    "\n",
    "batch_size = 32\n",
    "epochs = 50000\n",
    "lr = 0.1"
   ]
  },
  {
   "cell_type": "code",
   "execution_count": 82,
   "id": "3d34fc46",
   "metadata": {},
   "outputs": [
    {
     "data": {
      "text/plain": [
       "[<matplotlib.lines.Line2D at 0x1b723ccc9d0>]"
      ]
     },
     "execution_count": 82,
     "metadata": {},
     "output_type": "execute_result"
    },
    {
     "data": {
      "image/png": "[encoded data removed]",
      "text/plain": [
       "<Figure size 640x480 with 1 Axes>"
      ]
     },
     "metadata": {},
     "output_type": "display_data"
    }
   ],
   "source": [
    "loss_list = train_MLP(Xt, Yt, embed, Ws, bs, batch_size, epochs, lr)\n",
    "plt.plot(loss_list)"
   ]
  },
  {
   "cell_type": "code",
   "execution_count": 83,
   "id": "0947f18e",
   "metadata": {},
   "outputs": [
    {
     "name": "stdout",
     "output_type": "stream",
     "text": [
      "loss: 2.788581371307373\n"
     ]
    }
   ],
   "source": [
    "dev_MLP(Xdev, Ydev, embed, Ws, bs)"
   ]
  },
  {
   "cell_type": "code",
   "execution_count": null,
   "id": "500fb253",
   "metadata": {},
   "outputs": [],
   "source": []
  }
 ],
 "metadata": {
  "kernelspec": {
   "display_name": "d2l",
   "language": "python",
   "name": "python3"
  },
  "language_info": {
   "codemirror_mode": {
    "name": "ipython",
    "version": 3
   },
   "file_extension": ".py",
   "mimetype": "text/x-python",
   "name": "python",
   "nbconvert_exporter": "python",
   "pygments_lexer": "ipython3",
   "version": "3.9.21"
  }
 },
 "nbformat": 4,
 "nbformat_minor": 5
}
